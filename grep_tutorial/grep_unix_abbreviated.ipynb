{
 "cells": [
  {
   "cell_type": "markdown",
   "metadata": {},
   "source": [
    "## Topic:  GREP, Unix\n",
    "#### By:  Reshama\n",
    "\n",
    "#### Dataset:  movies, election, etc."
   ]
  },
  {
   "cell_type": "markdown",
   "metadata": {},
   "source": [
    "----"
   ]
  },
  {
   "cell_type": "markdown",
   "metadata": {},
   "source": [
    "**grep** = **G**lobal search for **R**egular **E**xpressions and **P**rint\n",
    "\n",
    "References:\n",
    "\n",
    "[Grep Commands in Unix Examples](http://www.folkstalk.com/2012/01/grep-command-in-unix-examples.html)\n",
    "\n",
    "[15 Practical Grep Command Examples](http://www.thegeekstuff.com/2009/03/15-practical-unix-grep-command-examples/)"
   ]
  },
  {
   "cell_type": "markdown",
   "metadata": {},
   "source": [
    "#### The basic syntax of grep command is\n",
    " \n",
    ">#### $ grep [options] pattern [list of files]"
   ]
  },
  {
   "cell_type": "markdown",
   "metadata": {},
   "source": [
    "### Ones I Most Commonly Use\n",
    "\n",
    "<br>\n",
    "\n",
    "1)  look for text within a directory and sub-directories (R = recursive)\n",
    "\n",
    "**$ grep -R \"_django1\" ./* **\n",
    "\n",
    "<br>\n",
    "\n",
    "2)  search for number of occurrences of a word (i = ignore case, c = count)\n",
    "\n",
    "**$ grep -i -c \"comedy\" movies.csv  **\n",
    "\n",
    "<br>\n",
    "\n",
    "3)  list number of lines in a file (l = line count)\n",
    "\n",
    "**$ wc  -l *  **\n",
    "\n",
    "\n",
    "<br>\n",
    "\n",
    "4)  remove header from a data file (start at second row of current file and output it to new file)\n",
    "\n",
    "**$ tail -n +2 election2012.csv > election2012_noheader.csv  **\n",
    "\n",
    "<br>\n",
    "\n",
    "5)  create a subset of the data (easier to work with while doing preliminary coding); take first 10 lines of a file and output them to a new file\n",
    "\n",
    "**$ head -10 election2012_noheader.csv > election10.csv  **"
   ]
  },
  {
   "cell_type": "markdown",
   "metadata": {},
   "source": [
    "---"
   ]
  },
  {
   "cell_type": "markdown",
   "metadata": {},
   "source": [
    "[MovieLens Latest Datasets](http://grouplens.org/datasets/movielens/)\n",
    "\n",
    "Small: 100,000 ratings and 2,200 tag applications applied to 9,000 movies by 700 users. Last updated **8/2015**.\n",
    "\n",
    "[README.html](http://files.grouplens.org/datasets/movielens/ml-latest-small-README.html)"
   ]
  },
  {
   "cell_type": "markdown",
   "metadata": {},
   "source": [
    "### Election Data\n",
    "[Full US 2012 election county-level results to download](http://www.theguardian.com/news/datablog/2012/nov/07/us-2012-election-county-results-download#data)"
   ]
  },
  {
   "cell_type": "markdown",
   "metadata": {},
   "source": [
    "---"
   ]
  },
  {
   "cell_type": "code",
   "execution_count": 27,
   "metadata": {
    "collapsed": false
   },
   "outputs": [
    {
     "name": "stdout",
     "output_type": "stream",
     "text": [
      "/Users/reshamashaikh/_ds/metis/metisgh/pygotham-2016/grep_tutorial\r\n"
     ]
    }
   ],
   "source": [
    "# print working directory\n",
    "!pwd"
   ]
  },
  {
   "cell_type": "code",
   "execution_count": 28,
   "metadata": {
    "collapsed": false
   },
   "outputs": [
    {
     "name": "stdout",
     "output_type": "stream",
     "text": [
      "      10 election10.csv\r\n",
      "    4640 election2012.csv\r\n",
      "    4639 election2012_noheader.csv\r\n",
      "     480 grep_unix_abbreviated.ipynb\r\n",
      "    1213 grep_unix_full.ipynb\r\n",
      "     667 metis.html\r\n",
      "    8928 movies.csv\r\n",
      "     165 movies1415.csv\r\n",
      "     129 movies_2014.csv\r\n",
      "      36 movies_2015.csv\r\n",
      "   20907 total\r\n"
     ]
    }
   ],
   "source": [
    "# how many lines are in the files\n",
    "!wc -l *"
   ]
  },
  {
   "cell_type": "code",
   "execution_count": 98,
   "metadata": {
    "collapsed": false
   },
   "outputs": [
    {
     "name": "stdout",
     "output_type": "stream",
     "text": [
      "movieId,title,genres\r",
      "\r\n",
      "1,Toy Story (1995),Adventure|Animation|Children|Comedy|Fantasy\r",
      "\r\n",
      "2,Jumanji (1995),Adventure|Children|Fantasy\r",
      "\r\n",
      "3,Grumpier Old Men (1995),Comedy|Romance\r",
      "\r\n",
      "4,Waiting to Exhale (1995),Comedy|Drama|Romance\r",
      "\r\n",
      "5,Father of the Bride Part II (1995),Comedy\r",
      "\r\n",
      "6,Heat (1995),Action|Crime|Thriller\r",
      "\r\n",
      "7,Sabrina (1995),Comedy|Romance\r",
      "\r\n",
      "8,Tom and Huck (1995),Adventure|Children\r",
      "\r\n",
      "9,Sudden Death (1995),Action\r",
      "\r\n"
     ]
    }
   ],
   "source": [
    "# head, by default, prints first 10 lines of a file\n",
    "!head movies.csv"
   ]
  },
  {
   "cell_type": "code",
   "execution_count": 99,
   "metadata": {
    "collapsed": false
   },
   "outputs": [
    {
     "name": "stdout",
     "output_type": "stream",
     "text": [
      "movieId,title,genres\r",
      "\r\n",
      "1,Toy Story (1995),Adventure|Animation|Children|Comedy|Fantasy\r",
      "\r\n",
      "2,Jumanji (1995),Adventure|Children|Fantasy\r",
      "\r\n",
      "3,Grumpier Old Men (1995),Comedy|Romance\r",
      "\r\n",
      "4,Waiting to Exhale (1995),Comedy|Drama|Romance\r",
      "\r\n"
     ]
    }
   ],
   "source": [
    "# look at first 5 lines of a file\n",
    "!head -5 movies.csv"
   ]
  },
  {
   "cell_type": "code",
   "execution_count": 100,
   "metadata": {
    "collapsed": false
   },
   "outputs": [],
   "source": [
    "#  1)  look for text within a directory and sub-directories (R = recursive)\n",
    "#  **$ grep -R \"_django1\" ./* **\n",
    "\n",
    "\n",
    "# pipe all records that have '2015' in each row of data to a new file\n",
    "!grep \"2015\" movies.csv > movies_2015.csv"
   ]
  },
  {
   "cell_type": "code",
   "execution_count": 26,
   "metadata": {
    "collapsed": false
   },
   "outputs": [
    {
     "name": "stdout",
     "output_type": "stream",
     "text": [
      "2015,\"Absent-Minded Professor, The (1961)\",Children|Comedy|Fantasy\r",
      "\r\n",
      "42015,Casanova (2005),Action|Adventure|Comedy|Drama|Romance\r",
      "\r\n",
      "115713,Ex Machina (2015),Drama|Sci-Fi|Thriller\r",
      "\r\n",
      "117529,Jurassic World (2015),Action|Adventure|Sci-Fi|Thriller\r",
      "\r\n",
      "119145,Kingsman: The Secret Service (2015),Action|Adventure|Comedy|Crime\r",
      "\r\n",
      "120466,Chappie (2015),Action|Thriller\r",
      "\r\n",
      "120635,Taken 3 (2015),Action|Crime|Thriller\r",
      "\r\n",
      "122882,Mad Max: Fury Road (2015),Action|Adventure\r",
      "\r\n",
      "122892,Avengers: Age of Ultron (2015),Action|Adventure|Sci-Fi\r",
      "\r\n",
      "125916,Fifty Shades of Grey (2015),Drama\r",
      "\r\n"
     ]
    }
   ],
   "source": [
    "# preview a file\n",
    "\n",
    "# 1 way to do it\n",
    "#!more movies_2015.csv\n",
    "\n",
    "# prints first 10 lines of file\n",
    "!head movies_2015.csv\n",
    "\n",
    "#!cat movies_2015.csv"
   ]
  },
  {
   "cell_type": "markdown",
   "metadata": {},
   "source": [
    "----------"
   ]
  },
  {
   "cell_type": "code",
   "execution_count": 34,
   "metadata": {
    "collapsed": false
   },
   "outputs": [
    {
     "name": "stdout",
     "output_type": "stream",
     "text": [
      "./grep_unix_abbreviated.ipynb:    \"# pipe all records that have '2015' in each row of data to a new file\\n\",\r\n",
      "./grep_unix_full.ipynb:    \"# pipe all records that have '2015' in each row of data to a new file\\n\",\r\n",
      "./grep_unix_full.ipynb:    \"# pipe all records that have '2014' in each row of data to a new file\\n\",\r\n",
      "./grep_unix_full.ipynb:    \"# let's combine the two files; pipe 2 files into a new file\\n\",\r\n",
      "./movies.csv:3073,\"Sandpiper, The (1965)\",Drama|Romance\r",
      "\r\n"
     ]
    }
   ],
   "source": [
    "#1)  look for text within a directory and sub-directories (R = recursive)\n",
    "\n",
    "!grep -R \"pipe\"  ./*"
   ]
  },
  {
   "cell_type": "markdown",
   "metadata": {},
   "source": [
    "### GREP:  how many counts of a particular word in a file?"
   ]
  },
  {
   "cell_type": "code",
   "execution_count": 19,
   "metadata": {
    "collapsed": false
   },
   "outputs": [
    {
     "name": "stdout",
     "output_type": "stream",
     "text": [
      "2102\n",
      "2848\n"
     ]
    }
   ],
   "source": [
    "#2)  search for number of occurrences of a word (i = ignore case, c = count)\n",
    "\n",
    "!grep -c \"The\" movies.csv\n",
    "\n",
    "!grep -i -c \"the\" movies.csv"
   ]
  },
  {
   "cell_type": "code",
   "execution_count": 9,
   "metadata": {
    "collapsed": false
   },
   "outputs": [
    {
     "name": "stdout",
     "output_type": "stream",
     "text": [
      "      10 election10.csv\r\n",
      "    4640 election2012.csv\r\n",
      "    4639 election2012_noheader.csv\r\n",
      "    1081 grep_unix_abbreviated.ipynb\r\n",
      "    1213 grep_unix_full.ipynb\r\n",
      "     667 metis.html\r\n",
      "    8928 movies.csv\r\n",
      "     165 movies1415.csv\r\n",
      "     129 movies_2014.csv\r\n",
      "      36 movies_2015.csv\r\n",
      "   21508 total\r\n"
     ]
    }
   ],
   "source": [
    "# 3)  list number of lines in a file (l = line count)\n",
    "\n",
    "# check number of lines in each file\n",
    "!wc -l *"
   ]
  },
  {
   "cell_type": "code",
   "execution_count": 7,
   "metadata": {
    "collapsed": false
   },
   "outputs": [
    {
     "name": "stdout",
     "output_type": "stream",
     "text": [
      "      10 election10.csv\r\n",
      "    4640 election2012.csv\r\n",
      "    4639 election2012_noheader.csv\r\n",
      "    9289 total\r\n"
     ]
    }
   ],
   "source": [
    "# 4)  remove header from a data file (start at second row of current file and output it to new file)\n",
    "\n",
    "# Use Case:   remove the header row, first line\n",
    "!tail -n +2 election2012.csv > election2012_noheader.csv\n",
    "\n",
    "# Check line count for original file and new file; noheader file should have one less line\n",
    "!wc -l *election*"
   ]
  },
  {
   "cell_type": "code",
   "execution_count": 5,
   "metadata": {
    "collapsed": false
   },
   "outputs": [
    {
     "name": "stdout",
     "output_type": "stream",
     "text": [
      "      10 election10.csv\r\n"
     ]
    }
   ],
   "source": [
    "#  5)  create a subset of the data (easier to work with while doing preliminary coding); \n",
    "#  take first 10 lines of a file and output them to a new file\n",
    "\n",
    "# Use Case:  Create a subset of the data.  Work with smaller subset before running all our \n",
    "# programs on full dataset to save time\n",
    "# Take first 10 lines and save it to a new dataset\n",
    "\n",
    "!head -10 election2012_noheader.csv > election10.csv\n",
    "\n",
    "# check that the file has 10 rows (records)\n",
    "!wc -l election10.csv"
   ]
  },
  {
   "cell_type": "code",
   "execution_count": null,
   "metadata": {
    "collapsed": true
   },
   "outputs": [],
   "source": []
  },
  {
   "cell_type": "code",
   "execution_count": null,
   "metadata": {
    "collapsed": true
   },
   "outputs": [],
   "source": []
  },
  {
   "cell_type": "code",
   "execution_count": null,
   "metadata": {
    "collapsed": true
   },
   "outputs": [],
   "source": []
  }
 ],
 "metadata": {
  "kernelspec": {
   "display_name": "Python 2",
   "language": "python",
   "name": "python2"
  },
  "language_info": {
   "codemirror_mode": {
    "name": "ipython",
    "version": 2
   },
   "file_extension": ".py",
   "mimetype": "text/x-python",
   "name": "python",
   "nbconvert_exporter": "python",
   "pygments_lexer": "ipython2",
   "version": "2.7.11"
  }
 },
 "nbformat": 4,
 "nbformat_minor": 0
}
