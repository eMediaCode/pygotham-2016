{
 "cells": [
  {
   "cell_type": "markdown",
   "metadata": {},
   "source": [
    "#### Topic:  GREP, Unix\n",
    "#### Date:  12/5/15\n",
    "#### By:  Reshama\n",
    "\n",
    "#### Organization:  WiMLDS\n",
    "\n",
    "#### Dataset:  movies, election, etc."
   ]
  },
  {
   "cell_type": "markdown",
   "metadata": {},
   "source": [
    "----"
   ]
  },
  {
   "cell_type": "markdown",
   "metadata": {},
   "source": [
    "**grep** = **G**lobal search for **R**egular **E**xpressions and **P**rint\n",
    "\n",
    "References:\n",
    "\n",
    "[Grep Commands in Unix Examples](http://www.folkstalk.com/2012/01/grep-command-in-unix-examples.html)\n",
    "\n",
    "[15 Practical Grep Command Examples](http://www.thegeekstuff.com/2009/03/15-practical-unix-grep-command-examples/)"
   ]
  },
  {
   "cell_type": "markdown",
   "metadata": {},
   "source": [
    "#### The basic syntax of grep command is\n",
    " \n",
    ">#### $ grep [options] pattern [list of files]"
   ]
  },
  {
   "cell_type": "markdown",
   "metadata": {},
   "source": [
    "### Ones I Most Commonly Use\n",
    "\n",
    "<br>\n",
    "\n",
    "1)  look for text within a directory and sub-directories<br>\n",
    "    R = recursive\n",
    "\n",
    "**$ grep -R \"_django1\" ./* **\n",
    "\n",
    "<br>\n",
    "\n",
    "2)  search for number of occurrences of a word (i=ignore case)\n",
    "\n",
    "**$ grep -i -c \"comedy\" movies.csv  **\n",
    "\n",
    "<br>\n",
    "\n",
    "3)  list number of lines in a file\n",
    "\n",
    "**$ wc  -l *  **\n",
    "\n",
    "\n",
    "<br>\n",
    "\n",
    "4)  remove header from a data file (start at second row of current file and output it to new file)\n",
    "\n",
    "**$ tail -n +2 election2012.csv > election2012_noheader.csv  **\n",
    "\n",
    "<br>\n",
    "\n",
    "5)  create a subset of the data (easier to work with while doing preliminary coding); take first 10 lines of a file and output them to a new file\n",
    "\n",
    "**$ head -10 election2012_noheader.csv > election10.csv  **"
   ]
  },
  {
   "cell_type": "markdown",
   "metadata": {},
   "source": [
    "---"
   ]
  },
  {
   "cell_type": "markdown",
   "metadata": {},
   "source": [
    "[MovieLens Latest Datasets](http://grouplens.org/datasets/movielens/)\n",
    "\n",
    "Small: 100,000 ratings and 2,200 tag applications applied to 9,000 movies by 700 users. Last updated **8/2015**.\n",
    "\n",
    "[README.html](http://files.grouplens.org/datasets/movielens/ml-latest-small-README.html)"
   ]
  },
  {
   "cell_type": "markdown",
   "metadata": {},
   "source": [
    "---"
   ]
  },
  {
   "cell_type": "code",
   "execution_count": 96,
   "metadata": {
    "collapsed": false
   },
   "outputs": [
    {
     "name": "stdout",
     "output_type": "stream",
     "text": [
      "    4640 election2012.csv\r\n",
      "    8928 movies.csv\r\n",
      "    1208 using_grep_unix_wimlds.ipynb\r\n",
      "   14776 total\r\n"
     ]
    }
   ],
   "source": [
    "# how many lines are in the files\n",
    "!wc -l *"
   ]
  },
  {
   "cell_type": "code",
   "execution_count": 97,
   "metadata": {
    "collapsed": false
   },
   "outputs": [
    {
     "name": "stdout",
     "output_type": "stream",
     "text": [
      "/Users/reshamashaikh/_ds/wimlds_grep\r\n"
     ]
    }
   ],
   "source": [
    "# print working directory\n",
    "!pwd"
   ]
  },
  {
   "cell_type": "code",
   "execution_count": 98,
   "metadata": {
    "collapsed": false
   },
   "outputs": [
    {
     "name": "stdout",
     "output_type": "stream",
     "text": [
      "movieId,title,genres\r",
      "\r\n",
      "1,Toy Story (1995),Adventure|Animation|Children|Comedy|Fantasy\r",
      "\r\n",
      "2,Jumanji (1995),Adventure|Children|Fantasy\r",
      "\r\n",
      "3,Grumpier Old Men (1995),Comedy|Romance\r",
      "\r\n",
      "4,Waiting to Exhale (1995),Comedy|Drama|Romance\r",
      "\r\n",
      "5,Father of the Bride Part II (1995),Comedy\r",
      "\r\n",
      "6,Heat (1995),Action|Crime|Thriller\r",
      "\r\n",
      "7,Sabrina (1995),Comedy|Romance\r",
      "\r\n",
      "8,Tom and Huck (1995),Adventure|Children\r",
      "\r\n",
      "9,Sudden Death (1995),Action\r",
      "\r\n"
     ]
    }
   ],
   "source": [
    "# head, by default, prints first 10 lines of a file\n",
    "!head movies.csv"
   ]
  },
  {
   "cell_type": "code",
   "execution_count": 99,
   "metadata": {
    "collapsed": false
   },
   "outputs": [
    {
     "name": "stdout",
     "output_type": "stream",
     "text": [
      "movieId,title,genres\r",
      "\r\n",
      "1,Toy Story (1995),Adventure|Animation|Children|Comedy|Fantasy\r",
      "\r\n",
      "2,Jumanji (1995),Adventure|Children|Fantasy\r",
      "\r\n",
      "3,Grumpier Old Men (1995),Comedy|Romance\r",
      "\r\n",
      "4,Waiting to Exhale (1995),Comedy|Drama|Romance\r",
      "\r\n"
     ]
    }
   ],
   "source": [
    "# look at first 5 lines of a file\n",
    "!head -5 movies.csv"
   ]
  },
  {
   "cell_type": "code",
   "execution_count": 100,
   "metadata": {
    "collapsed": false
   },
   "outputs": [],
   "source": [
    "# pipe all records that have '2015' in each row of data to a new file\n",
    "!grep \"2015\" movies.csv > movies_2015.csv"
   ]
  },
  {
   "cell_type": "code",
   "execution_count": 101,
   "metadata": {
    "collapsed": false
   },
   "outputs": [
    {
     "name": "stdout",
     "output_type": "stream",
     "text": [
      "    4640 election2012.csv\r\n",
      "    8928 movies.csv\r\n",
      "      36 movies_2015.csv\r\n",
      "    1208 using_grep_unix_wimlds.ipynb\r\n",
      "   14812 total\r\n"
     ]
    }
   ],
   "source": [
    "# list number of lines in a file\n",
    "!wc -l *"
   ]
  },
  {
   "cell_type": "code",
   "execution_count": 102,
   "metadata": {
    "collapsed": false
   },
   "outputs": [],
   "source": [
    "# look at file\n",
    "#!more movies_2015.csv"
   ]
  },
  {
   "cell_type": "code",
   "execution_count": 103,
   "metadata": {
    "collapsed": false
   },
   "outputs": [
    {
     "name": "stdout",
     "output_type": "stream",
     "text": [
      "2015,\"Absent-Minded Professor, The (1961)\",Children|Comedy|Fantasy\r",
      "\r\n",
      "42015,Casanova (2005),Action|Adventure|Comedy|Drama|Romance\r",
      "\r\n",
      "115713,Ex Machina (2015),Drama|Sci-Fi|Thriller\r",
      "\r\n",
      "117529,Jurassic World (2015),Action|Adventure|Sci-Fi|Thriller\r",
      "\r\n",
      "119145,Kingsman: The Secret Service (2015),Action|Adventure|Comedy|Crime\r",
      "\r\n",
      "120466,Chappie (2015),Action|Thriller\r",
      "\r\n",
      "120635,Taken 3 (2015),Action|Crime|Thriller\r",
      "\r\n",
      "122882,Mad Max: Fury Road (2015),Action|Adventure\r",
      "\r\n",
      "122892,Avengers: Age of Ultron (2015),Action|Adventure|Sci-Fi\r",
      "\r\n",
      "125916,Fifty Shades of Grey (2015),Drama\r",
      "\r\n",
      "127098,Louis C.K.: Live at The Comedy Store (2015),Comedy\r",
      "\r\n",
      "127146,Kurt Cobain: Montage of Heck (2015),Documentary\r",
      "\r\n",
      "127152,Going Clear: Scientology and the Prison of Belief (2015),Documentary\r",
      "\r\n",
      "127188,Advantageous (2015),Children|Drama|Sci-Fi\r",
      "\r\n",
      "128842,Dragonheart 3: The Sorcerer's Curse (2015),Action|Adventure|Fantasy\r",
      "\r\n",
      "129354,Focus (2015),Comedy|Crime|Drama|Romance\r",
      "\r\n",
      "129937,Run All Night (2015),Action|Crime|Drama|Mystery|Thriller\r",
      "\r\n",
      "130448,Poltergeist (2015),Horror|Thriller\r",
      "\r\n",
      "130490,Insurgent (2015),Action|Romance|Sci-Fi\r",
      "\r\n",
      "130520,Home (2015),Animation|Children|Comedy|Fantasy|Sci-Fi\r",
      "\r\n",
      "130578,\"Gunman, The (2015)\",Action|Thriller\r",
      "\r\n",
      "131013,Get Hard (2015),Comedy\r",
      "\r\n",
      "131656,Shaun the Sheep Movie (2015),Adventure|Animation|Children\r",
      "\r\n",
      "131796,Woman in Gold (2015),Drama\r",
      "\r\n",
      "132157,Paul Blart: Mall Cop 2 (2015),Comedy\r",
      "\r\n",
      "132569,Comedy Central Roast of Justin Bieber (2015),Comedy\r",
      "\r\n",
      "132594,A Royal Night Out (2015),Drama|Romance|Thriller\r",
      "\r\n",
      "132796,San Andreas (2015),Action|Drama|Thriller\r",
      "\r\n",
      "133419,Pitch Perfect 2 (2015),Comedy\r",
      "\r\n",
      "133545,Just Before I Go (2015),Comedy|Drama|Romance\r",
      "\r\n",
      "134170,Kung Fury (2015),Action|Comedy\r",
      "\r\n",
      "134368,Spy (2015),Action|Comedy\r",
      "\r\n",
      "134393,Trainwreck (2015),Comedy\r",
      "\r\n",
      "134783,Entourage (2015),Comedy\r",
      "\r\n",
      "134853,Inside Out (2015),Animation|Children|Comedy\r",
      "\r\n",
      "135887,Minions (2015),Adventure|Animation|Children|Comedy\r",
      "\r\n"
     ]
    }
   ],
   "source": [
    "# preview a file; notice the search includes record numbers where '2015' is present\n",
    "!cat movies_2015.csv"
   ]
  },
  {
   "cell_type": "code",
   "execution_count": 104,
   "metadata": {
    "collapsed": true
   },
   "outputs": [],
   "source": [
    "# pipe all records that have '2014' in each row of data to a new file\n",
    "!grep \"2014\" movies.csv > movies_2014.csv"
   ]
  },
  {
   "cell_type": "code",
   "execution_count": 105,
   "metadata": {
    "collapsed": false
   },
   "outputs": [
    {
     "name": "stdout",
     "output_type": "stream",
     "text": [
      "    4640 election2012.csv\r\n",
      "    8928 movies.csv\r\n",
      "     129 movies_2014.csv\r\n",
      "      36 movies_2015.csv\r\n",
      "    1208 using_grep_unix_wimlds.ipynb\r\n",
      "   14941 total\r\n"
     ]
    }
   ],
   "source": [
    "# how many lines in each file\n",
    "!wc  -l *"
   ]
  },
  {
   "cell_type": "markdown",
   "metadata": {},
   "source": [
    "### CAT:  combine two files"
   ]
  },
  {
   "cell_type": "code",
   "execution_count": 106,
   "metadata": {
    "collapsed": true
   },
   "outputs": [],
   "source": [
    "# let's combine the two files; pipe 2 files into a new file\n",
    "!cat movies_2014.csv movies_2015.csv >> movies1415.csv"
   ]
  },
  {
   "cell_type": "code",
   "execution_count": 107,
   "metadata": {
    "collapsed": false
   },
   "outputs": [
    {
     "name": "stdout",
     "output_type": "stream",
     "text": [
      "    8928 movies.csv\r\n",
      "     165 movies1415.csv\r\n",
      "     129 movies_2014.csv\r\n",
      "      36 movies_2015.csv\r\n",
      "    9258 total\r\n"
     ]
    }
   ],
   "source": [
    "# check lines in file, see that they add up\n",
    "!wc -l movies*.csv"
   ]
  },
  {
   "cell_type": "markdown",
   "metadata": {},
   "source": [
    "### GREP:  how many counts of a particular word in a file?"
   ]
  },
  {
   "cell_type": "markdown",
   "metadata": {},
   "source": [
    "#### How many occurrences of 'love' in the full movie dataset?"
   ]
  },
  {
   "cell_type": "code",
   "execution_count": 108,
   "metadata": {
    "collapsed": false
   },
   "outputs": [
    {
     "name": "stdout",
     "output_type": "stream",
     "text": [
      "6\r\n"
     ]
    }
   ],
   "source": [
    "!grep -c \"love\" movies.csv"
   ]
  },
  {
   "cell_type": "markdown",
   "metadata": {},
   "source": [
    "#### How many movies in the full dataset again?  (how many lines in the file?)"
   ]
  },
  {
   "cell_type": "code",
   "execution_count": 109,
   "metadata": {
    "collapsed": false
   },
   "outputs": [
    {
     "name": "stdout",
     "output_type": "stream",
     "text": [
      "    8928 movies.csv\r\n"
     ]
    }
   ],
   "source": [
    "!wc -l movies.csv"
   ]
  },
  {
   "cell_type": "markdown",
   "metadata": {},
   "source": [
    "#### How about the word 'comedy'?"
   ]
  },
  {
   "cell_type": "code",
   "execution_count": 110,
   "metadata": {
    "collapsed": false
   },
   "outputs": [
    {
     "name": "stdout",
     "output_type": "stream",
     "text": [
      "0\r\n"
     ]
    }
   ],
   "source": [
    "!grep -c \"comedy\" movies.csv"
   ]
  },
  {
   "cell_type": "markdown",
   "metadata": {},
   "source": [
    "#### that's interesting:  count is 0"
   ]
  },
  {
   "cell_type": "markdown",
   "metadata": {},
   "source": [
    "#### That doesn't seem right.  Maybe search 'Comedy'?"
   ]
  },
  {
   "cell_type": "code",
   "execution_count": 111,
   "metadata": {
    "collapsed": false
   },
   "outputs": [
    {
     "name": "stdout",
     "output_type": "stream",
     "text": [
      "3262\r\n"
     ]
    }
   ],
   "source": [
    "!grep -c \"Comedy\" movies.csv"
   ]
  },
  {
   "cell_type": "markdown",
   "metadata": {},
   "source": [
    "#### There must be a way to ignore case, right?\n",
    "#### Yes, there is!"
   ]
  },
  {
   "cell_type": "code",
   "execution_count": 112,
   "metadata": {
    "collapsed": false
   },
   "outputs": [
    {
     "name": "stdout",
     "output_type": "stream",
     "text": [
      "3262\r\n"
     ]
    }
   ],
   "source": [
    "!grep -i -c \"comedy\" movies.csv"
   ]
  },
  {
   "cell_type": "code",
   "execution_count": 113,
   "metadata": {
    "collapsed": false
   },
   "outputs": [
    {
     "name": "stdout",
     "output_type": "stream",
     "text": [
      "0\r\n"
     ]
    }
   ],
   "source": [
    "# look for text within a directory and sub-dirs\n",
    "# let's see how many times 'drama' appears as genre in this data file with 2014 and 2015 films\n",
    "!grep -c \"drama\" movies1415.csv     "
   ]
  },
  {
   "cell_type": "code",
   "execution_count": 114,
   "metadata": {
    "collapsed": false
   },
   "outputs": [
    {
     "name": "stdout",
     "output_type": "stream",
     "text": [
      "65\r\n"
     ]
    }
   ],
   "source": [
    "# add '-i' option which means ignore case\n",
    "!grep -c -i \"drama\" movies1415.csv"
   ]
  },
  {
   "cell_type": "markdown",
   "metadata": {},
   "source": [
    "#### Let's try the word 'love' again, ignoring case"
   ]
  },
  {
   "cell_type": "code",
   "execution_count": 115,
   "metadata": {
    "collapsed": false
   },
   "outputs": [
    {
     "name": "stdout",
     "output_type": "stream",
     "text": [
      "137\r\n"
     ]
    }
   ],
   "source": [
    "!grep -i -c \"love\" movies.csv"
   ]
  },
  {
   "cell_type": "code",
   "execution_count": 116,
   "metadata": {
    "collapsed": false
   },
   "outputs": [
    {
     "name": "stdout",
     "output_type": "stream",
     "text": [
      "3557,Jennifer 8 (1992),Mystery|Thriller\r",
      "\r\n",
      "71205,Jennifer's Body (2009),Comedy|Horror|Sci-Fi|Thriller\r",
      "\r\n"
     ]
    }
   ],
   "source": [
    "# notice without the -c option, it returns the data that match the search\n",
    "!grep -i \"jennifer\" movies.csv"
   ]
  },
  {
   "cell_type": "markdown",
   "metadata": {},
   "source": [
    "---"
   ]
  },
  {
   "cell_type": "markdown",
   "metadata": {},
   "source": [
    "### Use 'curl' to read in a webpage and save to an html file"
   ]
  },
  {
   "cell_type": "code",
   "execution_count": 117,
   "metadata": {
    "collapsed": false
   },
   "outputs": [
    {
     "name": "stdout",
     "output_type": "stream",
     "text": [
      "  % Total    % Received % Xferd  Average Speed   Time    Time     Time  Current\n",
      "                                 Dload  Upload   Total   Spent    Left  Speed\n",
      "100 42029  100 42029    0     0   107k      0 --:--:-- --:--:-- --:--:--  107k\n"
     ]
    }
   ],
   "source": [
    "!curl http://www.thisismetis.com/ > metis.html"
   ]
  },
  {
   "cell_type": "code",
   "execution_count": 118,
   "metadata": {
    "collapsed": false
   },
   "outputs": [
    {
     "name": "stdout",
     "output_type": "stream",
     "text": [
      "    4640 election2012.csv\r\n",
      "     667 metis.html\r\n",
      "    8928 movies.csv\r\n",
      "     165 movies1415.csv\r\n",
      "     129 movies_2014.csv\r\n",
      "      36 movies_2015.csv\r\n",
      "    1208 using_grep_unix_wimlds.ipynb\r\n",
      "   15773 total\r\n"
     ]
    }
   ],
   "source": [
    "# check number of lines in each file\n",
    "!wc -l *"
   ]
  },
  {
   "cell_type": "code",
   "execution_count": 119,
   "metadata": {
    "collapsed": false
   },
   "outputs": [
    {
     "name": "stdout",
     "output_type": "stream",
     "text": [
      "    4640   15793 1899176 election2012.csv\r\n",
      "     667    4214   42029 metis.html\r\n",
      "    8928   37684  442596 movies.csv\r\n",
      "     165     664    8247 movies1415.csv\r\n",
      "     129     525    6385 movies_2014.csv\r\n",
      "      36     139    1862 movies_2015.csv\r\n",
      "    1208    3035   29989 using_grep_unix_wimlds.ipynb\r\n",
      "   15773   62054 2430284 total\r\n"
     ]
    }
   ],
   "source": [
    "# let's also see how many lines, words and characters are in each file\n",
    "# wc = word count\n",
    "# counts of:  line, word, character\n",
    "!wc  *.*"
   ]
  },
  {
   "cell_type": "code",
   "execution_count": 120,
   "metadata": {
    "collapsed": false
   },
   "outputs": [
    {
     "name": "stdout",
     "output_type": "stream",
     "text": [
      "<!-- \r\n",
      "\r\n",
      "  _____   _____ _____ __ ______\r\n",
      " /     \\_/ __ \\   __\\  |/  ___/\r\n",
      "|  Y Y  \\  ___/|  | |  |\\___ \\ \r\n",
      "|__|_|  /\\___  >__| |__/____  >\r\n",
      "      \\/     \\/             \\/ \r\n",
      "\r\n",
      "             ( )\r\n",
      "         _____|_____       \r\n"
     ]
    }
   ],
   "source": [
    "!head *.html"
   ]
  },
  {
   "cell_type": "code",
   "execution_count": 121,
   "metadata": {
    "collapsed": false
   },
   "outputs": [
    {
     "name": "stdout",
     "output_type": "stream",
     "text": [
      "36\r\n"
     ]
    }
   ],
   "source": [
    "# want to count the number of times 'jpg' appears in the html file\n",
    "!grep -c \"jpg\" metis.html"
   ]
  },
  {
   "cell_type": "code",
   "execution_count": 122,
   "metadata": {
    "collapsed": false
   },
   "outputs": [
    {
     "name": "stdout",
     "output_type": "stream",
     "text": [
      "48\r\n"
     ]
    }
   ],
   "source": [
    "# how many times does this word appear in the html file?\n",
    "!grep -c \"metis\" metis.html"
   ]
  },
  {
   "cell_type": "markdown",
   "metadata": {},
   "source": [
    "----------"
   ]
  },
  {
   "cell_type": "markdown",
   "metadata": {},
   "source": [
    "### Election Data\n",
    "[Full US 2012 election county-level results to download](http://www.theguardian.com/news/datablog/2012/nov/07/us-2012-election-county-results-download#data)"
   ]
  },
  {
   "cell_type": "code",
   "execution_count": 123,
   "metadata": {
    "collapsed": false
   },
   "outputs": [
    {
     "name": "stdout",
     "output_type": "stream",
     "text": [
      "    4640 election2012.csv\r\n",
      "     667 metis.html\r\n",
      "    8928 movies.csv\r\n",
      "     165 movies1415.csv\r\n",
      "     129 movies_2014.csv\r\n",
      "      36 movies_2015.csv\r\n",
      "    1208 using_grep_unix_wimlds.ipynb\r\n",
      "   15773 total\r\n"
     ]
    }
   ],
   "source": [
    "!wc -l *"
   ]
  },
  {
   "cell_type": "code",
   "execution_count": 124,
   "metadata": {
    "collapsed": false
   },
   "outputs": [
    {
     "name": "stdout",
     "output_type": "stream",
     "text": [
      "State Postal,,County Number,FIPS Code,County Name,,Office Description,Precincts Reporting,Total Precincts,State Candidate Number (varies between state),TOTAL VOTES CAST,Order,Party,First name,Middle name,Last name,Junior?,Use Junior,Incumbent,Votes,Winner,National Politician ID (NPID),State Candidate Number (varies between state),Order,Party,First name,Middle name,Last name,Junior?,Use Junior,Incumbent,Votes,Winner,National Politician ID (NPID),State Candidate Number (varies between state),Order,Party,First name,Middle name,Last name,Junior?,Use Junior,Incumbent,Votes,Winner,National Politician ID (NPID),State Candidate Number (varies between state),Order,Party,First name,Middle name,Last name,Junior?,Use Junior,Incumbent,Votes,Winner,National Politician ID (NPID),State Candidate Number (varies between state),Order,Party,First name,Middle name,Last name,Junior?,Use Junior,Incumbent,Votes,Winner,National Politician ID (NPID),State Candidate Number (varies between state),Order,Party,First name,Middle name,Last name,Junior?,Use Junior,Incumbent,Votes,Winner,National Politician ID (NPID),State Candidate Number (varies between state),Order,Party,First name,Middle name,Last name,Junior?,Use Junior,Incumbent,Votes,Winner,National Politician ID (NPID),State Candidate Number (varies between state),Order,Party,First name,Middle name,Last name,Junior?,Use Junior,Incumbent,Votes,Winner,National Politician ID (NPID),State Candidate Number (varies between state),Order,Party,First name,Middle name,Last name,Junior?,Use Junior,Incumbent,Votes,Winner,National Politician ID (NPID),State Candidate Number (varies between state),Order,Party,First name,Middle name,Last name,Junior?,Use Junior,Incumbent,Votes,Winner,National Politician ID (NPID),State Candidate Number (varies between state),Order,Party,First name,Middle name,Last name,Junior?,Use Junior,Incumbent,Votes,Winner,National Politician ID (NPID),State Candidate Number (varies between state),Order,Party,First name,Middle name,Last name,Junior?,Use Junior,Incumbent,Votes,Winner,National Politician ID (NPID),State Candidate Number (varies between state),Order,Party,First name,Middle name,Last name,Junior?,Use Junior,Incumbent,Votes,Winner,National Politician ID (NPID),State Candidate Number (varies between state),Order,Party,First name,Middle name,Last name,Junior?,Use Junior,Incumbent,Votes,Winner,National Politician ID (NPID),State Candidate Number (varies between state),Order,Party,First name,Middle name,Last name,Junior?,Use Junior,Incumbent,Votes,Winner,National Politician ID (NPID),State Candidate Number (varies between state),Order,Party,First name,Middle name,Last name,Junior?,Use Junior,Incumbent,Votes,Winner,National Politician ID (NPID),TOTAL VOTES CAST\r\n",
      "AK,AK Alaska,1,0,Alaska,AK Alaska,President,437,438,6017,220596,1,Dem,Barack,,Obama,,0,1,91696,,1918,6018,2,GOP,Mitt,,Romney,,0,0,121234,X,893,6028,3,Lib,Gary,,Johnson,,0,0,5539,,31708,6142,4,Grn,Jill,,Stein,,0,0,2127,,895,,,,,,,,,,,,,,,,,,,,,,,,,,,,,,,,,,,,,,,,,,,,,,,,,,,,,,,,,,,,,,,,,,,,,,,,,,,,,,,,,,,,,,,,,,,,,,,,,,,,,,,,,,,,,,,,,,,,,,,,,,,,,,,,,,,,,,,,,,,,,,,,,220596\r\n"
     ]
    }
   ],
   "source": [
    "# print the first 2 lines of the file\n",
    "!head -2 election2012.csv"
   ]
  },
  {
   "cell_type": "code",
   "execution_count": 125,
   "metadata": {
    "collapsed": false
   },
   "outputs": [
    {
     "name": "stdout",
     "output_type": "stream",
     "text": [
      "6\r\n"
     ]
    }
   ],
   "source": [
    "# This will search for the lines which starts with:  'DE' \n",
    "# Regular expressions is huge topic, and this is an intro \n",
    "# This example is just for providing the usage of regular expressions.\n",
    "\n",
    "# how many rows of data (by county) are there for the state of Delaware\n",
    "!grep -c \"^[DE].*\" election*.*"
   ]
  },
  {
   "cell_type": "code",
   "execution_count": 126,
   "metadata": {
    "collapsed": false
   },
   "outputs": [
    {
     "name": "stdout",
     "output_type": "stream",
     "text": [
      "456\r\n"
     ]
    }
   ],
   "source": [
    "# return count of how many records begin with \"CA\"\n",
    "!grep -c \"^[CA].*\" election2012.csv"
   ]
  },
  {
   "cell_type": "markdown",
   "metadata": {},
   "source": [
    "### Let's say we want to remove the header row, first line"
   ]
  },
  {
   "cell_type": "code",
   "execution_count": 127,
   "metadata": {
    "collapsed": false
   },
   "outputs": [],
   "source": [
    "!tail -n +2 election2012.csv > election2012_noheader.csv"
   ]
  },
  {
   "cell_type": "code",
   "execution_count": 128,
   "metadata": {
    "collapsed": false
   },
   "outputs": [
    {
     "name": "stdout",
     "output_type": "stream",
     "text": [
      "    4640 election2012.csv\r\n",
      "    4639 election2012_noheader.csv\r\n",
      "    9279 total\r\n"
     ]
    }
   ],
   "source": [
    "# let's compare line counts for each file.  noheader file should have one less line\n",
    "!wc -l *election*"
   ]
  },
  {
   "cell_type": "markdown",
   "metadata": {},
   "source": [
    "### Create a subset of the data.  Work with smaller subset before running all our programs on full dataset to save time"
   ]
  },
  {
   "cell_type": "markdown",
   "metadata": {},
   "source": [
    "#### Take first 10 lines and save it to a new dataset"
   ]
  },
  {
   "cell_type": "code",
   "execution_count": 129,
   "metadata": {
    "collapsed": true
   },
   "outputs": [],
   "source": [
    "!head -10 election2012_noheader.csv > election10.csv"
   ]
  },
  {
   "cell_type": "code",
   "execution_count": 130,
   "metadata": {
    "collapsed": false
   },
   "outputs": [
    {
     "name": "stdout",
     "output_type": "stream",
     "text": [
      "      10 election10.csv\r\n",
      "    4640 election2012.csv\r\n",
      "    4639 election2012_noheader.csv\r\n",
      "    9289 total\r\n"
     ]
    }
   ],
   "source": [
    "# check that new file has 10 records \n",
    "!wc -l *election*"
   ]
  },
  {
   "cell_type": "code",
   "execution_count": 131,
   "metadata": {
    "collapsed": false
   },
   "outputs": [
    {
     "name": "stdout",
     "output_type": "stream",
     "text": [
      "AK,AK Alaska,1,0,Alaska,AK Alaska,President,437,438,6017,220596,1,Dem,Barack,,Obama,,0,1,91696,,1918,6018,2,GOP,Mitt,,Romney,,0,0,121234,X,893,6028,3,Lib,Gary,,Johnson,,0,0,5539,,31708,6142,4,Grn,Jill,,Stein,,0,0,2127,,895,,,,,,,,,,,,,,,,,,,,,,,,,,,,,,,,,,,,,,,,,,,,,,,,,,,,,,,,,,,,,,,,,,,,,,,,,,,,,,,,,,,,,,,,,,,,,,,,,,,,,,,,,,,,,,,,,,,,,,,,,,,,,,,,,,,,,,,,,,,,,,,,,220596\r\n",
      "AK,AK Alaska,2001,2000,Alaska,AK Alaska,President,437,438,6017,220596,1,Dem,Barack,,Obama,,0,1,91696,,1918,6018,2,GOP,Mitt,,Romney,,0,0,121234,X,893,6028,3,Lib,Gary,,Johnson,,0,0,5539,,31708,6142,4,Grn,Jill,,Stein,,0,0,2127,,895,,,,,,,,,,,,,,,,,,,,,,,,,,,,,,,,,,,,,,,,,,,,,,,,,,,,,,,,,,,,,,,,,,,,,,,,,,,,,,,,,,,,,,,,,,,,,,,,,,,,,,,,,,,,,,,,,,,,,,,,,,,,,,,,,,,,,,,,,,,,,,,,,220596\r\n"
     ]
    }
   ],
   "source": [
    "# looking at first 2 rows of data\n",
    "!head -2 election10.csv"
   ]
  },
  {
   "cell_type": "markdown",
   "metadata": {},
   "source": [
    "-----"
   ]
  },
  {
   "cell_type": "markdown",
   "metadata": {},
   "source": [
    "### GREP - Regular Expressions"
   ]
  },
  {
   "cell_type": "code",
   "execution_count": 132,
   "metadata": {
    "collapsed": false
   },
   "outputs": [
    {
     "name": "stdout",
     "output_type": "stream",
     "text": [
      "Binary file /Users/reshamashaikh/_ds/_02_book_machinel_python/chap2_classify//1400_02_04.png matches\r\n",
      "Binary file /Users/reshamashaikh/_ds/_02_book_machinel_python/chap2_classify//1400_02_05.png matches\r\n",
      "Binary file /Users/reshamashaikh/_ds/_02_book_machinel_python/chap2_classify//figure_1_1400_02_01.png matches\r\n"
     ]
    }
   ],
   "source": [
    "# This will search for the lines which starts with a number.  \n",
    "# This example is just for providing the usage of regular expressions.\n",
    "\n",
    "#!grep -r \"^[0-9].*\" \"/Users/reshamashaikh/_ds/pydata2015/d3-jupyter-tutorial/lib/\"\n",
    "\n",
    "!grep -r \"^[0-9].*\" \"/Users/reshamashaikh/_ds/_02_book_machinel_python/chap2_classify/\"\n"
   ]
  },
  {
   "cell_type": "markdown",
   "metadata": {},
   "source": [
    "### Really Miscellaneous - More Unix Commands\n",
    "http://www.bath.ac.uk/bucs/tools/unix/basicunixcommands/moreunix.html\n"
   ]
  },
  {
   "cell_type": "code",
   "execution_count": 133,
   "metadata": {
    "collapsed": false
   },
   "outputs": [
    {
     "name": "stdout",
     "output_type": "stream",
     "text": [
      "Fri Dec 11 13:33:28 EST 2015\r\n"
     ]
    }
   ],
   "source": [
    "!date"
   ]
  },
  {
   "cell_type": "code",
   "execution_count": 134,
   "metadata": {
    "collapsed": false
   },
   "outputs": [
    {
     "name": "stdout",
     "output_type": "stream",
     "text": [
      "   December 2015\r\n",
      "Su Mo Tu We Th Fr Sa\r\n",
      "       1  2  3  4  5\r\n",
      " 6  7  8  9 10 11 12\r\n",
      "13 14 15 16 17 18 19\r\n",
      "20 21 22 23 24 25 26\r\n",
      "27 28 29 30 31\r\n",
      "\r\n"
     ]
    }
   ],
   "source": [
    "!cal"
   ]
  },
  {
   "cell_type": "code",
   "execution_count": 135,
   "metadata": {
    "collapsed": false
   },
   "outputs": [
    {
     "name": "stdout",
     "output_type": "stream",
     "text": [
      "   February 1952\r\n",
      "Su Mo Tu We Th Fr Sa\r\n",
      "                1  2\r\n",
      " 3  4  5  6  7  8  9\r\n",
      "10 11 12 13 14 15 16\r\n",
      "17 18 19 20 21 22 23\r\n",
      "24 25 26 27 28 29\r\n",
      "\r\n"
     ]
    }
   ],
   "source": [
    "# I wonder what day of the week Valentine's Day was in the year 1952?\n",
    "!cal february 1952"
   ]
  },
  {
   "cell_type": "code",
   "execution_count": null,
   "metadata": {
    "collapsed": true
   },
   "outputs": [],
   "source": []
  },
  {
   "cell_type": "code",
   "execution_count": null,
   "metadata": {
    "collapsed": true
   },
   "outputs": [],
   "source": []
  },
  {
   "cell_type": "code",
   "execution_count": null,
   "metadata": {
    "collapsed": true
   },
   "outputs": [],
   "source": []
  }
 ],
 "metadata": {
  "kernelspec": {
   "display_name": "Python 2",
   "language": "python",
   "name": "python2"
  },
  "language_info": {
   "codemirror_mode": {
    "name": "ipython",
    "version": 2
   },
   "file_extension": ".py",
   "mimetype": "text/x-python",
   "name": "python",
   "nbconvert_exporter": "python",
   "pygments_lexer": "ipython2",
   "version": "2.7.10"
  }
 },
 "nbformat": 4,
 "nbformat_minor": 0
}
